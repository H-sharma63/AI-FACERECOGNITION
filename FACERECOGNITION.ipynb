{
  "nbformat": 4,
  "nbformat_minor": 0,
  "metadata": {
    "colab": {
      "provenance": [],
      "include_colab_link": true
    },
    "kernelspec": {
      "name": "python3",
      "display_name": "Python 3"
    },
    "language_info": {
      "name": "python"
    },
    "gpuClass": "standard",
    "accelerator": "GPU"
  },
  "cells": [
    {
      "cell_type": "markdown",
      "metadata": {
        "id": "view-in-github",
        "colab_type": "text"
      },
      "source": [
        "<a href=\"https://colab.research.google.com/github/H-sharma63/AI-FACERECOGNITION/blob/main/FACERECOGNITION.ipynb\" target=\"_parent\"><img src=\"https://colab.research.google.com/assets/colab-badge.svg\" alt=\"Open In Colab\"/></a>"
      ]
    },
    {
      "cell_type": "markdown",
      "source": [
        "# ***FACE RECOGNITION***"
      ],
      "metadata": {
        "id": "PH1S2ahfuyuJ"
      }
    },
    {
      "cell_type": "code",
      "source": [
        "import cv2\n",
        "\n",
        "recognizer = cv2.face.LBPHFaceRecognizer_create() # Local Binary Patterns Histograms\n",
        "recognizer.read('trainer/trainer.yml')   #load trained model\n",
        "cascadePath = \"haarcascade_frontalface_default.xml\"\n",
        "faceCascade = cv2.CascadeClassifier(cascadePath) #initializing haar cascade for object detection approach\n",
        "\n",
        "font = cv2.FONT_HERSHEY_SIMPLEX #denotes the font type\n",
        "\n",
        "\n",
        "id = 2 #number of persons you want to Recognize\n",
        "\n",
        "\n",
        "names = ['','']  #names, leave first empty bcz counter starts from 0\n",
        "\n",
        "\n",
        "cam = cv2.VideoCapture(0, cv2.CAP_DSHOW) #cv2.CAP_DSHOW to remove warning\n",
        "cam.set(3, 640) # set video FrameWidht\n",
        "cam.set(4, 480) # set video FrameHeight\n",
        "\n",
        "# Define min window size to be recognized as a face\n",
        "minW = 0.1*cam.get(3)\n",
        "minH = 0.1*cam.get(4)\n",
        "\n",
        "# flag = True\n",
        "\n",
        "while True:\n",
        "\n",
        "    ret, img =cam.read() #read the frames using the above created object\n",
        "\n",
        "    converted_image = cv2.cvtColor(img,cv2.COLOR_BGR2GRAY)  #The function converts an input image from one color space to another\n",
        "\n",
        "    faces = faceCascade.detectMultiScale(\n",
        "        converted_image,\n",
        "        scaleFactor = 1.2,\n",
        "        minNeighbors = 5,\n",
        "        minSize = (int(minW), int(minH)),\n",
        "       )\n",
        "\n",
        "    for(x,y,w,h) in faces:\n",
        "\n",
        "        cv2.rectangle(img, (x,y), (x+w,y+h), (0,255,0), 2) #used to draw a rectangle on any image\n",
        "\n",
        "        id, accuracy = recognizer.predict(converted_image[y:y+h,x:x+w]) #to predict on every single image\n",
        "\n",
        "        # Check if accuracy is less them 100 ==> \"0\" is perfect match\n",
        "        if (accuracy < 100):\n",
        "            id = names[id]\n",
        "            accuracy = \"  {0}%\".format(round(100 - accuracy))\n",
        "\n",
        "        else:\n",
        "            id = \"unknown\"\n",
        "            accuracy = \"  {0}%\".format(round(100 - accuracy))\n",
        "\n",
        "        cv2.putText(img, str(id), (x+5,y-5), font, 1, (255,255,255), 2)\n",
        "        cv2.putText(img, str(accuracy), (x+5,y+h-5), font, 1, (255,255,0), 1)\n",
        "\n",
        "    cv2.imshow('camera',img)\n",
        "\n",
        "    k = cv2.waitKey(10) & 0xff # Press 'ESC' for exiting video\n",
        "    if k == 27:\n",
        "        break\n",
        "\n",
        "# Do a bit of cleanup\n",
        "print(\"Thanks for using this program, have a good day.\")\n",
        "cam.release()\n",
        "cv2.destroyAllWindows()\n"
      ],
      "metadata": {
        "id": "f2_w8xByuivO"
      },
      "execution_count": null,
      "outputs": []
    },
    {
      "cell_type": "markdown",
      "source": [
        "# ***MODEL TRAINER***"
      ],
      "metadata": {
        "id": "12SRlhWgvFwC"
      }
    },
    {
      "cell_type": "code",
      "source": [
        "import cv2\n",
        "import numpy as np\n",
        "from PIL import Image #pillow package\n",
        "import os\n",
        "\n",
        "path = 'samples' # Path for samples already taken\n",
        "\n",
        "recognizer = cv2.face.LBPHFaceRecognizer_create(detector) # Local Binary Patterns Histograms\n",
        "detector = cv2.CascadeClassifier(\"haarcascade_frontalface_default.xml\")\n",
        "#Haar Cascade classifier is an effective object detection approach\n",
        "\n",
        "\n",
        "def Images_And_Labels(path): # function to fetch the images and labels\n",
        "\n",
        "    imagePaths = [os.path.join(path,f) for f in os.listdir(path)]\n",
        "    faceSamples=[]\n",
        "    ids = []\n",
        "\n",
        "    for imagePath in imagePaths: # to iterate particular image path\n",
        "\n",
        "        gray_img = Image.open(imagePath).convert('L') # convert it to grayscale\n",
        "        img_arr = np.array(gray_img,'uint8') #creating an array\n",
        "\n",
        "        id = int(os.path.split(imagePath)[-1].split(\".\")[1])\n",
        "        faces = detector.detectMultiScale(img_arr)\n",
        "\n",
        "        for (x,y,w,h) in faces:\n",
        "            faceSamples.append(img_arr[y:y+h,x:x+w])\n",
        "            ids.append(id)\n",
        "\n",
        "    return faceSamples,ids\n",
        "\n",
        "print (\"Training faces. It will take a few seconds. Wait ...\")\n",
        "\n",
        "faces,ids = Images_And_Labels(path)\n",
        "recognizer.train(faces, np.array(ids))\n",
        "\n",
        "recognizer.write('trainer/trainer.yml')  # Save the trained model as trainer.yml\n",
        "\n",
        "print(\"Model trained, Now we can recognize face.\")\n"
      ],
      "metadata": {
        "id": "tAH5KNpUuwN1"
      },
      "execution_count": null,
      "outputs": []
    }
  ]
}